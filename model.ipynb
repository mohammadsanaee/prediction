{
  "cells": [
    {
      "cell_type": "code",
      "execution_count": 1,
      "id": "21ad201b",
      "metadata": {
        "id": "21ad201b"
      },
      "outputs": [],
      "source": [
        "import pandas as pd\n",
        "import numpy as np\n",
        "import matplotlib.pyplot as plt\n",
        "import torch"
      ]
    },
    {
      "cell_type": "code",
      "execution_count": 2,
      "id": "c1f58b5c",
      "metadata": {
        "id": "c1f58b5c"
      },
      "outputs": [],
      "source": [
        "df = pd.read_csv('https://raw.githubusercontent.com/mohammadsanaee/prediction/main/df_daily.csv')"
      ]
    },
    {
      "cell_type": "code",
      "execution_count": 3,
      "id": "59743b61",
      "metadata": {
        "id": "59743b61",
        "outputId": "7e9b2ac3-7189-4308-9abe-386432b372d9",
        "colab": {
          "base_uri": "https://localhost:8080/",
          "height": 206
        }
      },
      "outputs": [
        {
          "output_type": "execute_result",
          "data": {
            "text/plain": [
              "   Unnamed: 0        date  price_pesos  exchange  price_usd  gas_price  \\\n",
              "0           0  2006-06-26  3696.799565   53.4002  69.228197        7.1   \n",
              "1           1  2006-06-27  4494.720000   53.4750  84.052735        7.1   \n",
              "2           2  2006-06-28  3419.524583   53.5800  63.820914        7.1   \n",
              "3           3  2006-06-29  2904.085417   53.5502  54.231084        7.1   \n",
              "4           4  2006-06-30  4178.192500   53.1102  78.670246        7.1   \n",
              "\n",
              "   coal_price   gas_rate  coal_rate  log_price  \n",
              "0    2.100882   9.750450  32.951961   3.426412  \n",
              "1    2.100882  11.838413  40.008299        NaN  \n",
              "2    2.100882   8.988861  30.378146   3.471716  \n",
              "3    2.100882   7.638181  25.813478   3.346610  \n",
              "4    2.100882  11.080316  37.446286   3.480780  "
            ],
            "text/html": [
              "\n",
              "  <div id=\"df-f263a795-6894-4d08-a5c5-2bdd72e2f727\">\n",
              "    <div class=\"colab-df-container\">\n",
              "      <div>\n",
              "<style scoped>\n",
              "    .dataframe tbody tr th:only-of-type {\n",
              "        vertical-align: middle;\n",
              "    }\n",
              "\n",
              "    .dataframe tbody tr th {\n",
              "        vertical-align: top;\n",
              "    }\n",
              "\n",
              "    .dataframe thead th {\n",
              "        text-align: right;\n",
              "    }\n",
              "</style>\n",
              "<table border=\"1\" class=\"dataframe\">\n",
              "  <thead>\n",
              "    <tr style=\"text-align: right;\">\n",
              "      <th></th>\n",
              "      <th>Unnamed: 0</th>\n",
              "      <th>date</th>\n",
              "      <th>price_pesos</th>\n",
              "      <th>exchange</th>\n",
              "      <th>price_usd</th>\n",
              "      <th>gas_price</th>\n",
              "      <th>coal_price</th>\n",
              "      <th>gas_rate</th>\n",
              "      <th>coal_rate</th>\n",
              "      <th>log_price</th>\n",
              "    </tr>\n",
              "  </thead>\n",
              "  <tbody>\n",
              "    <tr>\n",
              "      <th>0</th>\n",
              "      <td>0</td>\n",
              "      <td>2006-06-26</td>\n",
              "      <td>3696.799565</td>\n",
              "      <td>53.4002</td>\n",
              "      <td>69.228197</td>\n",
              "      <td>7.1</td>\n",
              "      <td>2.100882</td>\n",
              "      <td>9.750450</td>\n",
              "      <td>32.951961</td>\n",
              "      <td>3.426412</td>\n",
              "    </tr>\n",
              "    <tr>\n",
              "      <th>1</th>\n",
              "      <td>1</td>\n",
              "      <td>2006-06-27</td>\n",
              "      <td>4494.720000</td>\n",
              "      <td>53.4750</td>\n",
              "      <td>84.052735</td>\n",
              "      <td>7.1</td>\n",
              "      <td>2.100882</td>\n",
              "      <td>11.838413</td>\n",
              "      <td>40.008299</td>\n",
              "      <td>NaN</td>\n",
              "    </tr>\n",
              "    <tr>\n",
              "      <th>2</th>\n",
              "      <td>2</td>\n",
              "      <td>2006-06-28</td>\n",
              "      <td>3419.524583</td>\n",
              "      <td>53.5800</td>\n",
              "      <td>63.820914</td>\n",
              "      <td>7.1</td>\n",
              "      <td>2.100882</td>\n",
              "      <td>8.988861</td>\n",
              "      <td>30.378146</td>\n",
              "      <td>3.471716</td>\n",
              "    </tr>\n",
              "    <tr>\n",
              "      <th>3</th>\n",
              "      <td>3</td>\n",
              "      <td>2006-06-29</td>\n",
              "      <td>2904.085417</td>\n",
              "      <td>53.5502</td>\n",
              "      <td>54.231084</td>\n",
              "      <td>7.1</td>\n",
              "      <td>2.100882</td>\n",
              "      <td>7.638181</td>\n",
              "      <td>25.813478</td>\n",
              "      <td>3.346610</td>\n",
              "    </tr>\n",
              "    <tr>\n",
              "      <th>4</th>\n",
              "      <td>4</td>\n",
              "      <td>2006-06-30</td>\n",
              "      <td>4178.192500</td>\n",
              "      <td>53.1102</td>\n",
              "      <td>78.670246</td>\n",
              "      <td>7.1</td>\n",
              "      <td>2.100882</td>\n",
              "      <td>11.080316</td>\n",
              "      <td>37.446286</td>\n",
              "      <td>3.480780</td>\n",
              "    </tr>\n",
              "  </tbody>\n",
              "</table>\n",
              "</div>\n",
              "      <button class=\"colab-df-convert\" onclick=\"convertToInteractive('df-f263a795-6894-4d08-a5c5-2bdd72e2f727')\"\n",
              "              title=\"Convert this dataframe to an interactive table.\"\n",
              "              style=\"display:none;\">\n",
              "        \n",
              "  <svg xmlns=\"http://www.w3.org/2000/svg\" height=\"24px\"viewBox=\"0 0 24 24\"\n",
              "       width=\"24px\">\n",
              "    <path d=\"M0 0h24v24H0V0z\" fill=\"none\"/>\n",
              "    <path d=\"M18.56 5.44l.94 2.06.94-2.06 2.06-.94-2.06-.94-.94-2.06-.94 2.06-2.06.94zm-11 1L8.5 8.5l.94-2.06 2.06-.94-2.06-.94L8.5 2.5l-.94 2.06-2.06.94zm10 10l.94 2.06.94-2.06 2.06-.94-2.06-.94-.94-2.06-.94 2.06-2.06.94z\"/><path d=\"M17.41 7.96l-1.37-1.37c-.4-.4-.92-.59-1.43-.59-.52 0-1.04.2-1.43.59L10.3 9.45l-7.72 7.72c-.78.78-.78 2.05 0 2.83L4 21.41c.39.39.9.59 1.41.59.51 0 1.02-.2 1.41-.59l7.78-7.78 2.81-2.81c.8-.78.8-2.07 0-2.86zM5.41 20L4 18.59l7.72-7.72 1.47 1.35L5.41 20z\"/>\n",
              "  </svg>\n",
              "      </button>\n",
              "      \n",
              "  <style>\n",
              "    .colab-df-container {\n",
              "      display:flex;\n",
              "      flex-wrap:wrap;\n",
              "      gap: 12px;\n",
              "    }\n",
              "\n",
              "    .colab-df-convert {\n",
              "      background-color: #E8F0FE;\n",
              "      border: none;\n",
              "      border-radius: 50%;\n",
              "      cursor: pointer;\n",
              "      display: none;\n",
              "      fill: #1967D2;\n",
              "      height: 32px;\n",
              "      padding: 0 0 0 0;\n",
              "      width: 32px;\n",
              "    }\n",
              "\n",
              "    .colab-df-convert:hover {\n",
              "      background-color: #E2EBFA;\n",
              "      box-shadow: 0px 1px 2px rgba(60, 64, 67, 0.3), 0px 1px 3px 1px rgba(60, 64, 67, 0.15);\n",
              "      fill: #174EA6;\n",
              "    }\n",
              "\n",
              "    [theme=dark] .colab-df-convert {\n",
              "      background-color: #3B4455;\n",
              "      fill: #D2E3FC;\n",
              "    }\n",
              "\n",
              "    [theme=dark] .colab-df-convert:hover {\n",
              "      background-color: #434B5C;\n",
              "      box-shadow: 0px 1px 3px 1px rgba(0, 0, 0, 0.15);\n",
              "      filter: drop-shadow(0px 1px 2px rgba(0, 0, 0, 0.3));\n",
              "      fill: #FFFFFF;\n",
              "    }\n",
              "  </style>\n",
              "\n",
              "      <script>\n",
              "        const buttonEl =\n",
              "          document.querySelector('#df-f263a795-6894-4d08-a5c5-2bdd72e2f727 button.colab-df-convert');\n",
              "        buttonEl.style.display =\n",
              "          google.colab.kernel.accessAllowed ? 'block' : 'none';\n",
              "\n",
              "        async function convertToInteractive(key) {\n",
              "          const element = document.querySelector('#df-f263a795-6894-4d08-a5c5-2bdd72e2f727');\n",
              "          const dataTable =\n",
              "            await google.colab.kernel.invokeFunction('convertToInteractive',\n",
              "                                                     [key], {});\n",
              "          if (!dataTable) return;\n",
              "\n",
              "          const docLinkHtml = 'Like what you see? Visit the ' +\n",
              "            '<a target=\"_blank\" href=https://colab.research.google.com/notebooks/data_table.ipynb>data table notebook</a>'\n",
              "            + ' to learn more about interactive tables.';\n",
              "          element.innerHTML = '';\n",
              "          dataTable['output_type'] = 'display_data';\n",
              "          await google.colab.output.renderOutput(dataTable, element);\n",
              "          const docLink = document.createElement('div');\n",
              "          docLink.innerHTML = docLinkHtml;\n",
              "          element.appendChild(docLink);\n",
              "        }\n",
              "      </script>\n",
              "    </div>\n",
              "  </div>\n",
              "  "
            ]
          },
          "metadata": {},
          "execution_count": 3
        }
      ],
      "source": [
        "df.head()"
      ]
    },
    {
      "cell_type": "code",
      "execution_count": 4,
      "id": "551bb891",
      "metadata": {
        "id": "551bb891"
      },
      "outputs": [],
      "source": [
        "df1 = df.reset_index()['price_pesos']"
      ]
    },
    {
      "cell_type": "code",
      "execution_count": 5,
      "id": "8ac11941",
      "metadata": {
        "id": "8ac11941",
        "outputId": "e68084f4-a544-46e7-89d3-977651110c15",
        "colab": {
          "base_uri": "https://localhost:8080/",
          "height": 283
        }
      },
      "outputs": [
        {
          "output_type": "execute_result",
          "data": {
            "text/plain": [
              "[<matplotlib.lines.Line2D at 0x7f462e6d5fd0>]"
            ]
          },
          "metadata": {},
          "execution_count": 5
        },
        {
          "output_type": "display_data",
          "data": {
            "text/plain": [
              "<Figure size 432x288 with 1 Axes>"
            ],
            "image/png": "[encoded data removed]"
          },
          "metadata": {
            "needs_background": "light"
          }
        }
      ],
      "source": [
        "plt.plot(df1)"
      ]
    },
    {
      "cell_type": "code",
      "execution_count": 6,
      "id": "9fb94ac1",
      "metadata": {
        "id": "9fb94ac1"
      },
      "outputs": [],
      "source": [
        "from sklearn.preprocessing import MinMaxScaler\n",
        "scalar = MinMaxScaler(feature_range=(0,1))\n",
        "df1 = scalar.fit_transform(np.array(df1).reshape(-1,1))"
      ]
    },
    {
      "cell_type": "code",
      "execution_count": 7,
      "id": "2ac7fb6b",
      "metadata": {
        "id": "2ac7fb6b",
        "outputId": "828e6652-ec4e-4c43-e3e5-96cb55bb8528",
        "colab": {
          "base_uri": "https://localhost:8080/"
        }
      },
      "outputs": [
        {
          "output_type": "execute_result",
          "data": {
            "text/plain": [
              "array([[0.09346681],\n",
              "       [0.11364076],\n",
              "       [0.08645642],\n",
              "       ...,\n",
              "       [0.05852367],\n",
              "       [0.0581322 ],\n",
              "       [0.04859631]])"
            ]
          },
          "metadata": {},
          "execution_count": 7
        }
      ],
      "source": [
        "df1"
      ]
    },
    {
      "cell_type": "code",
      "execution_count": 8,
      "id": "34a2ab11",
      "metadata": {
        "id": "34a2ab11"
      },
      "outputs": [],
      "source": [
        "training_size=int(len(df1)*0.80)\n",
        "test_size=len(df1)-training_size\n",
        "train_data,test_data=df1[0:training_size,:],df1[training_size:len(df1),:1]"
      ]
    },
    {
      "cell_type": "code",
      "execution_count": 9,
      "id": "39a57103",
      "metadata": {
        "id": "39a57103"
      },
      "outputs": [],
      "source": [
        "from torch.utils.data import Dataset , DataLoader\n",
        "\n",
        "class StockDataset(Dataset):\n",
        "    def __init__(self,data,seq_len = 100):\n",
        "        self.data = data\n",
        "        self.data = torch.from_numpy(data).float().view(-1)\n",
        "        self.seq_len = seq_len\n",
        "        \n",
        "    def __len__(self):\n",
        "        return len(self.data)-self.seq_len-1\n",
        "\n",
        "    def __getitem__(self, index) :\n",
        "        return  self.data[index : index+self.seq_len] , self.data[index+self.seq_len]\n",
        "\n",
        "\n",
        "train_dataset = StockDataset(train_data) \n",
        "test_dataset = StockDataset(test_data) "
      ]
    },
    {
      "cell_type": "code",
      "execution_count": 10,
      "id": "1ded5593",
      "metadata": {
        "id": "1ded5593"
      },
      "outputs": [],
      "source": [
        "batch_size = 64\n",
        "train_dataloader = DataLoader(train_dataset,batch_size,drop_last=True)\n",
        "test_dataloader = DataLoader(test_dataset,batch_size , drop_last=True)\n",
        "\n",
        "device = \"cuda\" if torch.cuda.is_available() else \"cpu\""
      ]
    },
    {
      "cell_type": "code",
      "execution_count": 11,
      "id": "76ae64ea",
      "metadata": {
        "id": "76ae64ea"
      },
      "outputs": [],
      "source": [
        "import torch.nn as nn\n",
        "class Lstm_model(nn.Module):\n",
        "    def __init__(self, input_dim , hidden_size , num_layers):\n",
        "        super(Lstm_model, self).__init__()\n",
        "        self.num_layers = num_layers\n",
        "        self.input_size = input_dim\n",
        "        self.hidden_size = hidden_size\n",
        "        self.lstm = nn.LSTM(input_size=input_dim , hidden_size = hidden_size , num_layers= num_layers )\n",
        "        self.fc = nn.Linear(hidden_size,1)\n",
        "\n",
        "    def forward(self,x,hn,cn):\n",
        "        out , (hn,cn) = self.lstm(x , (hn,cn))\n",
        "        final_out = self.fc(out[-1])\n",
        "        return final_out,hn,cn\n",
        "\n",
        "    def predict(self,x):\n",
        "        hn,cn  = self.init()\n",
        "        final_out = self.fc(out[-1])\n",
        "        return final_out\n",
        "\n",
        "    def init(self):\n",
        "        h0 =  torch.zeros(self.num_layers , batch_size , self.hidden_size).to(device)\n",
        "        c0 =  torch.zeros(self.num_layers , batch_size , self.hidden_size).to(device)\n",
        "        return h0 , c0\n",
        "\n",
        "\n",
        "input_dim = 1 \n",
        "hidden_size = 50\n",
        "num_layers = 3\n",
        "\n",
        "model = Lstm_model(input_dim , hidden_size , num_layers).to(device)"
      ]
    },
    {
      "cell_type": "code",
      "execution_count": null,
      "id": "572bd614",
      "metadata": {
        "id": "572bd614"
      },
      "outputs": [],
      "source": [
        "loss_fn = nn.MSELoss()\n",
        "optimizer = torch.optim.Adam(model.parameters(), lr=1e-3)\n",
        "def train(dataloader):\n",
        "    hn , cn = model.init()\n",
        "    model.train()\n",
        "    for batch , item in enumerate(dataloader):\n",
        "        x , y = item\n",
        "        x = x.to(device)\n",
        "        y = y.to(device)\n",
        "        out , hn , cn = model(x.reshape(100,batch_size,1),hn,cn)\n",
        "        loss = loss_fn(out.reshape(batch_size) , y)\n",
        "        hn = hn.detach()\n",
        "        cn = cn.detach()\n",
        "        optimizer.zero_grad()\n",
        "        loss.backward()\n",
        "        optimizer.step()\n",
        "        \n",
        "        if batch == len(dataloader)-1:\n",
        "            loss = loss.item()\n",
        "            print(f\"train loss: {loss:>7f} \")\n",
        "def test(dataloader):\n",
        "    hn , cn = model.init()\n",
        "    model.eval()\n",
        "    for batch , item in enumerate(dataloader):\n",
        "        x , y = item\n",
        "        x = x.to(device)\n",
        "        y = y.to(device)\n",
        "        out , hn , cn = model(x.reshape(100,batch_size,1),hn,cn)\n",
        "        loss = loss_fn(out.reshape(batch_size) , y)\n",
        "       \n",
        "        if batch == len(dataloader)-1:\n",
        "            loss = loss.item()\n",
        "            print(f\"test loss: {loss:>7f} \")\n",
        "epochs = 90000000\n",
        "for epoch in range(epochs):\n",
        "  if epoch %500000 == 0:\n",
        "      print(f\"epoch {epoch} \")\n",
        "      train(train_dataloader)\n",
        "      test(test_dataloader)"
      ]
    },
    {
      "cell_type": "code",
      "source": [
        "x"
      ],
      "metadata": {
        "id": "HbYykkRVBW-n",
        "outputId": "c0141453-de21-495d-dda4-c1c6cca2f424",
        "colab": {
          "base_uri": "https://localhost:8080/",
          "height": 169
        }
      },
      "id": "HbYykkRVBW-n",
      "execution_count": 16,
      "outputs": [
        {
          "output_type": "error",
          "ename": "NameError",
          "evalue": "ignored",
          "traceback": [
            "\u001b[0;31m---------------------------------------------------------------------------\u001b[0m",
            "\u001b[0;31mNameError\u001b[0m                                 Traceback (most recent call last)",
            "\u001b[0;32m<ipython-input-16-6fcf9dfbd479>\u001b[0m in \u001b[0;36m<module>\u001b[0;34m\u001b[0m\n\u001b[0;32m----> 1\u001b[0;31m \u001b[0mx\u001b[0m\u001b[0;34m\u001b[0m\u001b[0;34m\u001b[0m\u001b[0m\n\u001b[0m",
            "\u001b[0;31mNameError\u001b[0m: name 'x' is not defined"
          ]
        }
      ]
    },
    {
      "cell_type": "code",
      "execution_count": 21,
      "id": "2a4d7136",
      "metadata": {
        "id": "2a4d7136",
        "outputId": "c22d3f77-ecde-4680-ac7e-eea9a64e0827",
        "colab": {
          "base_uri": "https://localhost:8080/"
        }
      },
      "outputs": [
        {
          "output_type": "stream",
          "name": "stdout",
          "text": [
            "2318.0154 818.8821\n",
            " r2_score = 0.7757065667371797\n",
            "train mse loss 1730.5463732590351\n",
            "2345.771 1711.8489\n",
            " r2_score = 0.5564826985550313\n",
            "test mse loss 1540.8048221627553\n"
          ]
        }
      ],
      "source": [
        "import math\n",
        "from sklearn.metrics import mean_squared_error,r2_score\n",
        "import numpy as np\n",
        "def calculate_metrics(data_loader):\n",
        "    pred_arr = []\n",
        "    y_arr = []\n",
        "    with torch.no_grad():\n",
        "        hn , cn = model.init()\n",
        "        for batch , item in enumerate(data_loader):\n",
        "            x , y = item\n",
        "            x , y = x.to(device) , y.to(device)\n",
        "            x = x.view(100,64,1)\n",
        "            pred = model(x,hn,cn)[0]\n",
        "            pred = scalar.inverse_transform(pred.detach().cpu().numpy()).reshape(-1)\n",
        "            y = scalar.inverse_transform(y.detach().cpu().numpy().reshape(1,-1)).reshape(-1)\n",
        "            pred_arr = pred_arr + list(pred)\n",
        "            y_arr = y_arr + list(y)\n",
        "        print(pred_arr[500],y_arr[500])\n",
        "        print(f\" r2_score = {r2_score(y_arr, pred_arr)}\")\n",
        "        return math.sqrt(mean_squared_error(y_arr,pred_arr))\n",
        "    \n",
        "# calculating final loss metrics\n",
        "print(f\"train mse loss {calculate_metrics(train_dataloader)}\")\n",
        "print(f\"test mse loss {calculate_metrics(test_dataloader)}\")"
      ]
    },
    {
      "cell_type": "code",
      "source": [],
      "metadata": {
        "id": "4fbz74ar5YWr"
      },
      "id": "4fbz74ar5YWr",
      "execution_count": null,
      "outputs": []
    }
  ],
  "metadata": {
    "kernelspec": {
      "display_name": "Python 3 (ipykernel)",
      "language": "python",
      "name": "python3"
    },
    "language_info": {
      "codemirror_mode": {
        "name": "ipython",
        "version": 3
      },
      "file_extension": ".py",
      "mimetype": "text/x-python",
      "name": "python",
      "nbconvert_exporter": "python",
      "pygments_lexer": "ipython3",
      "version": "3.10.8"
    },
    "colab": {
      "provenance": []
    },
    "accelerator": "GPU",
    "gpuClass": "standard"
  },
  "nbformat": 4,
  "nbformat_minor": 5
}